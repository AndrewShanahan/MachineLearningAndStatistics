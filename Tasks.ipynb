{
 "cells": [
  {
   "cell_type": "markdown",
   "id": "fc2936ac",
   "metadata": {},
   "source": [
    "### Machine Learning and Statistics - Tasks"
   ]
  },
  {
   "cell_type": "markdown",
   "id": "ba762f2d",
   "metadata": {},
   "source": [
    "### Task 1: Newton’s method"
   ]
  },
  {
   "cell_type": "markdown",
   "id": "daf40b71",
   "metadata": {},
   "source": [
    "In numerical analysis, Newton's method, also known as the Newton–Raphson method, named after Isaac Newton and Joseph Raphson, is a root-finding algorithm which produces successively better approximations to the roots (or zeroes) of a real-valued function.[3]"
   ]
  },
  {
   "cell_type": "code",
   "execution_count": 1,
   "id": "b77ee21b",
   "metadata": {},
   "outputs": [
    {
     "name": "stdout",
     "output_type": "stream",
     "text": [
      "The square root of 16.0 is approximately 4.00\n"
     ]
    }
   ],
   "source": [
    "def sqrt(x):\n",
    "    # Initialize the initial guess (z0) to be x / 2\n",
    "    z = x / 2.0\n",
    "    \n",
    "    # Set the threshold for convergence\n",
    "    threshold = 0.01\n",
    "    \n",
    "    while True:\n",
    "        # Calculate the next approximation using the formula\n",
    "        next_z = 0.5 * (z + x / z)\n",
    "        \n",
    "        # Check if the difference between the current and next approximation is within the threshold\n",
    "        if abs(z - next_z) < threshold:\n",
    "            return next_z  # The approximation is within the threshold\n",
    "        \n",
    "        # Update the current approximation\n",
    "        z = next_z\n",
    "\n",
    "# Example usage:\n",
    "x = 16.0  # Replace this with the number for which you want to find the square root\n",
    "result = sqrt(x)\n",
    "print(f\"The square root of {x} is approximately {result:.2f}\")"
   ]
  },
  {
   "cell_type": "markdown",
   "id": "c2c9ad84",
   "metadata": {},
   "source": [
    "### Task 2: Chi-squared test"
   ]
  },
  {
   "cell_type": "markdown",
   "id": "3e54a434",
   "metadata": {},
   "source": [
    "A chi-squared test is a statistical hypothesis test used in the analysis of contingency tables when the sample sizes are large. In simpler terms, this test is primarily used to examine whether two categorical variables (two dimensions of the contingency table) are independent in influencing the test statistic (values within the table).[4]"
   ]
  },
  {
   "cell_type": "code",
   "execution_count": 1,
   "id": "58479b41",
   "metadata": {},
   "outputs": [],
   "source": [
    "import scipy.stats as stats"
   ]
  },
  {
   "cell_type": "markdown",
   "id": "1f6268f0",
   "metadata": {},
   "source": [
    "### References:\n",
    "\n",
    "### Task 1:\n",
    "[01] GeeksforGeeks (2023) Find root of a number using Newton’s method. Available at: https://www.geeksforgeeks.org/find-root-of-a-number-using-newtons-method/ (Accessed 14/10/2023)<br>\n",
    "[02] pythonnumericalmethods.berkeley.edu (2020) Newton-Raphson Method. Available at: https://pythonnumericalmethods.berkeley.edu/notebooks/chapter19.04-Newton-Raphson-Method.html (Accessed 14/10/2023)<br>\n",
    "[03] Wikipedia (2023) Newton's method. Available at: https://en.wikipedia.org/wiki/Newton%27s_method (Accessed 16/10/2023)<br>\n",
    "\n",
    "### Task 2:\n",
    "[04] Wikipedia (2023) Chi-squared test. Available at: https://en.wikipedia.org/wiki/Chi-squared_test (Accessed 16/10/2023)<br>\n",
    "[05]\n",
    "[06]\n",
    "[07]"
   ]
  },
  {
   "cell_type": "code",
   "execution_count": 5,
   "id": "c0e288c7",
   "metadata": {},
   "outputs": [
    {
     "name": "stdout",
     "output_type": "stream",
     "text": [
      "200\n"
     ]
    }
   ],
   "source": [
    "import requests\n",
    "\n",
    "url = \"http://gmit.ie\"\n",
    "\n",
    "response = requests.get(url)\n",
    "print(response.status_code)"
   ]
  }
 ],
 "metadata": {
  "kernelspec": {
   "display_name": "Python 3 (ipykernel)",
   "language": "python",
   "name": "python3"
  },
  "language_info": {
   "codemirror_mode": {
    "name": "ipython",
    "version": 3
   },
   "file_extension": ".py",
   "mimetype": "text/x-python",
   "name": "python",
   "nbconvert_exporter": "python",
   "pygments_lexer": "ipython3",
   "version": "3.9.7"
  }
 },
 "nbformat": 4,
 "nbformat_minor": 5
}
