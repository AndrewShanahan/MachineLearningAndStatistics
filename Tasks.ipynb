{
 "cells": [
  {
   "cell_type": "markdown",
   "id": "fc2936ac",
   "metadata": {},
   "source": [
    "### Machine Learning and Statistics - Tasks"
   ]
  },
  {
   "cell_type": "markdown",
   "id": "ba762f2d",
   "metadata": {},
   "source": [
    "### Task 1: Newton’s method"
   ]
  },
  {
   "cell_type": "markdown",
   "id": "daf40b71",
   "metadata": {},
   "source": [
    "In numerical analysis, Newton's method, also known as the Newton–Raphson method, named after Isaac Newton and Joseph Raphson, is a root-finding algorithm which produces successively better approximations to the roots (or zeroes) of a real-valued function.[3]"
   ]
  },
  {
   "cell_type": "code",
   "execution_count": 1,
   "id": "b77ee21b",
   "metadata": {},
   "outputs": [
    {
     "name": "stdout",
     "output_type": "stream",
     "text": [
      "The square root of 16.0 is approximately 4.00\n"
     ]
    }
   ],
   "source": [
    "def sqrt(x):\n",
    "    # Initialize the initial guess (z0) to be x / 2\n",
    "    z = x / 2.0\n",
    "    \n",
    "    # Set the threshold for convergence\n",
    "    threshold = 0.01\n",
    "    \n",
    "    while True:\n",
    "        # Calculate the next approximation using the formula\n",
    "        next_z = 0.5 * (z + x / z)\n",
    "        \n",
    "        # Check if the difference between the current and next approximation is within the threshold\n",
    "        if abs(z - next_z) < threshold:\n",
    "            return next_z  # The approximation is within the threshold\n",
    "        \n",
    "        # Update the current approximation\n",
    "        z = next_z\n",
    "\n",
    "# Example usage:\n",
    "x = 16.0  # Replace this with the number for which you want to find the square root\n",
    "result = sqrt(x)\n",
    "print(f\"The square root of {x} is approximately {result:.2f}\")"
   ]
  },
  {
   "cell_type": "markdown",
   "id": "c2c9ad84",
   "metadata": {},
   "source": [
    "### Task 2: Chi-squared test"
   ]
  },
  {
   "cell_type": "markdown",
   "id": "3e54a434",
   "metadata": {},
   "source": [
    "A chi-squared test is a statistical hypothesis test used in the analysis of contingency tables when the sample sizes are large. In simpler terms, this test is primarily used to examine whether two categorical variables (two dimensions of the contingency table) are independent in influencing the test statistic (values within the table).[4]"
   ]
  },
  {
   "cell_type": "code",
   "execution_count": 1,
   "id": "58479b41",
   "metadata": {},
   "outputs": [
    {
     "name": "stdout",
     "output_type": "stream",
     "text": [
      "Chi-squared statistic: 2.6359100836554257\n",
      "p-value: 0.10447218120907394\n",
      "Degrees of freedom: 1\n",
      "Expected frequencies table:\n",
      "[[49.25373134 50.74626866]\n",
      " [49.74626866 51.25373134]]\n"
     ]
    }
   ],
   "source": [
    "# Import the required libraries:\n",
    "import scipy.stats as stats\n",
    "\n",
    "# Create a contingency table\n",
    "observed = [[43, 57], [56, 45]]\n",
    "\n",
    "# Perform the chi-squared test\n",
    "chi2, p, dof, expected = stats.chi2_contingency(observed)\n",
    "\n",
    "# Print the results\n",
    "print(\"Chi-squared statistic:\", chi2) # Chi-squared statistic\n",
    "print(\"p-value:\", p) # p-value\n",
    "print(\"Degrees of freedom:\", dof) # Degrees of freedom\n",
    "print(\"Expected frequencies table:\") # Expected frequencies table\n",
    "print(expected) # print table of expected frequencies\n"
   ]
  },
  {
   "cell_type": "markdown",
   "id": "38eb565e",
   "metadata": {},
   "source": [
    "### Task 3:"
   ]
  },
  {
   "cell_type": "markdown",
   "id": "fe8d3e00",
   "metadata": {},
   "source": [
    "### Task 4:"
   ]
  },
  {
   "cell_type": "markdown",
   "id": "f0300b75",
   "metadata": {},
   "source": [
    "### Task 5:"
   ]
  },
  {
   "cell_type": "markdown",
   "id": "1f6268f0",
   "metadata": {},
   "source": [
    "### References:\n",
    "\n",
    "### Task 1:\n",
    "[01] GeeksforGeeks (2023) Find root of a number using Newton’s method. Available at: https://www.geeksforgeeks.org/find-root-of-a-number-using-newtons-method/ (Accessed 14/10/2023)<br>\n",
    "[02] pythonnumericalmethods.berkeley.edu (2020) Newton-Raphson Method. Available at: https://pythonnumericalmethods.berkeley.edu/notebooks/chapter19.04-Newton-Raphson-Method.html (Accessed 14/10/2023)<br>\n",
    "[03] Wikipedia (2023) Newton's method. Available at: https://en.wikipedia.org/wiki/Newton%27s_method (Accessed 16/10/2023)<br>\n",
    "\n",
    "### Task 2:\n",
    "[04] Wikipedia (2023) Chi-squared test. Available at: https://en.wikipedia.org/wiki/Chi-squared_test (Accessed 16/10/2023)<br>\n",
    "[05] docs.scipy.org (2023) scipy.stats.chisquare. Available at: https://docs.scipy.org/doc/scipy/reference/generated/scipy.stats.chisquare.html (Accessed 18/10/2023)<br>\n",
    "[06] Geeksforgeeks (2023) Python – Pearson’s Chi-Square Test. Available at: https://www.geeksforgeeks.org/python-pearsons-chi-square-test/ (Accessed 18/10/2023)<br>\n",
    "[07] Machine Learning Mastery (2019) A Gentle Introduction to the Chi-Squared Test for Machine Learning. Available at: https://machinelearningmastery.com/chi-squared-test-for-machine-learning/<br>"
   ]
  },
  {
   "cell_type": "code",
   "execution_count": 5,
   "id": "c0e288c7",
   "metadata": {},
   "outputs": [
    {
     "name": "stdout",
     "output_type": "stream",
     "text": [
      "200\n"
     ]
    }
   ],
   "source": [
    "import requests\n",
    "\n",
    "url = \"http://gmit.ie\"\n",
    "\n",
    "response = requests.get(url)\n",
    "print(response.status_code)"
   ]
  },
  {
   "cell_type": "code",
   "execution_count": 3,
   "id": "2e63d017",
   "metadata": {},
   "outputs": [],
   "source": [
    "import requests\n",
    "import json\n",
    "\n",
    "url = \"https://ws.cso.ie/public/api.restful/PxStat.Data.Cube_API.ReadDataset/FY003B/JSON-stat/2.0/en\" # FY003B = Dataset\n",
    "\n",
    "# Data from the url returns a json response:\n",
    "def read_data():\n",
    "    response = requests.get(url)\n",
    "    return (response.json())"
   ]
  }
 ],
 "metadata": {
  "kernelspec": {
   "display_name": "Python 3 (ipykernel)",
   "language": "python",
   "name": "python3"
  },
  "language_info": {
   "codemirror_mode": {
    "name": "ipython",
    "version": 3
   },
   "file_extension": ".py",
   "mimetype": "text/x-python",
   "name": "python",
   "nbconvert_exporter": "python",
   "pygments_lexer": "ipython3",
   "version": "3.9.7"
  }
 },
 "nbformat": 4,
 "nbformat_minor": 5
}
