{
 "cells": [
  {
   "cell_type": "code",
   "execution_count": 1,
   "id": "4e0ef3ff",
   "metadata": {},
   "outputs": [],
   "source": [
    "# Import various libraries:\n",
    "\n",
    "import pandas as pd # importing pandas as I'm likely going to be using this\n",
    "from sklearn.datasets import load_iris"
   ]
  },
  {
   "cell_type": "code",
   "execution_count": 2,
   "id": "c7c4a3f6",
   "metadata": {},
   "outputs": [
    {
     "name": "stdout",
     "output_type": "stream",
     "text": [
      "       sepal length (cm)  sepal width (cm)  petal length (cm)  \\\n",
      "count         150.000000        150.000000         150.000000   \n",
      "mean            5.843333          3.057333           3.758000   \n",
      "std             0.828066          0.435866           1.765298   \n",
      "min             4.300000          2.000000           1.000000   \n",
      "25%             5.100000          2.800000           1.600000   \n",
      "50%             5.800000          3.000000           4.350000   \n",
      "75%             6.400000          3.300000           5.100000   \n",
      "max             7.900000          4.400000           6.900000   \n",
      "\n",
      "       petal width (cm)      target  \n",
      "count        150.000000  150.000000  \n",
      "mean           1.199333    1.000000  \n",
      "std            0.762238    0.819232  \n",
      "min            0.100000    0.000000  \n",
      "25%            0.300000    0.000000  \n",
      "50%            1.300000    1.000000  \n",
      "75%            1.800000    2.000000  \n",
      "max            2.500000    2.000000  \n"
     ]
    }
   ],
   "source": [
    "# load dataset from sklearn library and look for a description as a brief test.[01]\n",
    "\n",
    "iris = load_iris()\n",
    "data = pd.DataFrame(data=iris.data, columns=iris.feature_names)\n",
    "data['target'] = iris.target\n",
    "print(data.describe())\n"
   ]
  },
  {
   "cell_type": "code",
   "execution_count": null,
   "id": "aa58a983",
   "metadata": {},
   "outputs": [],
   "source": []
  },
  {
   "cell_type": "code",
   "execution_count": null,
   "id": "3cffcf86",
   "metadata": {},
   "outputs": [],
   "source": []
  },
  {
   "cell_type": "code",
   "execution_count": null,
   "id": "22d36e3c",
   "metadata": {},
   "outputs": [],
   "source": []
  },
  {
   "cell_type": "code",
   "execution_count": null,
   "id": "b6af7bb6",
   "metadata": {},
   "outputs": [],
   "source": []
  },
  {
   "cell_type": "markdown",
   "id": "d31bfc37",
   "metadata": {},
   "source": [
    "### References:\n",
    "\n",
    "[01] Scikit-learn (2023) Machine Learning in Python. Available at: https://scikit-learn.org/stable/index.html Accessed 31/10/2023\n",
    "[02] Scikit-learn (2023) sklearn.datasets.load_iris. Available at: https://scikit-learn.org/stable/modules/generated/sklearn.datasets.load_iris.html#sklearn.datasets.load_iris Accessed 31/10/2023\n",
    "[03] pandas (2023) pandas. Available at: https://pandas.pydata.org/ Accessed 31/10/2023\n",
    "[]\n",
    "[]\n",
    "[]\n",
    "[]\n",
    "[]\n",
    "[]\n",
    "[]\n",
    "[]\n",
    "[]\n",
    "[]\n",
    "[]\n",
    "[]\n",
    "[]\n",
    "[]\n",
    "[]\n",
    "[]\n",
    "[]\n",
    "[]\n",
    "[]\n",
    "[]\n",
    "[]\n",
    "[]\n",
    "[]\n",
    "[]\n",
    "[]\n",
    "[]"
   ]
  }
 ],
 "metadata": {
  "kernelspec": {
   "display_name": "Python 3 (ipykernel)",
   "language": "python",
   "name": "python3"
  },
  "language_info": {
   "codemirror_mode": {
    "name": "ipython",
    "version": 3
   },
   "file_extension": ".py",
   "mimetype": "text/x-python",
   "name": "python",
   "nbconvert_exporter": "python",
   "pygments_lexer": "ipython3",
   "version": "3.9.7"
  }
 },
 "nbformat": 4,
 "nbformat_minor": 5
}
