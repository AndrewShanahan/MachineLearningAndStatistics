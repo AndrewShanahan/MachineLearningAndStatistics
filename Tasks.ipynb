{
 "cells": [
  {
   "cell_type": "markdown",
   "id": "fc2936ac",
   "metadata": {},
   "source": [
    "Machine Learning and Statistics - Tasks"
   ]
  },
  {
   "cell_type": "markdown",
   "id": "ba762f2d",
   "metadata": {},
   "source": [
    "Task 1: Cal"
   ]
  },
  {
   "cell_type": "code",
   "execution_count": 1,
   "id": "b77ee21b",
   "metadata": {},
   "outputs": [
    {
     "name": "stdout",
     "output_type": "stream",
     "text": [
      "The square root of 16.0 is approximately 4.00\n"
     ]
    }
   ],
   "source": [
    "def sqrt(x):\n",
    "    # Initialize the initial guess (z0) to be x / 2\n",
    "    z = x / 2.0\n",
    "    \n",
    "    # Set the threshold for convergence\n",
    "    threshold = 0.01\n",
    "    \n",
    "    while True:\n",
    "        # Calculate the next approximation using the formula\n",
    "        next_z = 0.5 * (z + x / z)\n",
    "        \n",
    "        # Check if the difference between the current and next approximation is within the threshold\n",
    "        if abs(z - next_z) < threshold:\n",
    "            return next_z  # The approximation is within the threshold\n",
    "        \n",
    "        # Update the current approximation\n",
    "        z = next_z\n",
    "\n",
    "# Example usage:\n",
    "x = 16.0  # Replace this with the number for which you want to find the square root\n",
    "result = sqrt(x)\n",
    "print(f\"The square root of {x} is approximately {result:.2f}\")"
   ]
  },
  {
   "cell_type": "markdown",
   "id": "c2c9ad84",
   "metadata": {},
   "source": []
  },
  {
   "cell_type": "markdown",
   "id": "3e54a434",
   "metadata": {},
   "source": []
  },
  {
   "cell_type": "code",
   "execution_count": null,
   "id": "c0e288c7",
   "metadata": {},
   "outputs": [],
   "source": []
  },
  {
   "cell_type": "markdown",
   "id": "1f6268f0",
   "metadata": {},
   "source": [
    "### References:\n",
    "\n",
    "### Task 1:\n",
    "[01] https://www.geeksforgeeks.org/find-root-of-a-number-using-newtons-method/ (Accessed 14/10/2023)\n",
    "[02] https://pythonnumericalmethods.berkeley.edu/notebooks/chapter19.04-Newton-Raphson-Method.html (Accessed 14/10/2023)\n"
   ]
  }
 ],
 "metadata": {
  "kernelspec": {
   "display_name": "Python 3 (ipykernel)",
   "language": "python",
   "name": "python3"
  },
  "language_info": {
   "codemirror_mode": {
    "name": "ipython",
    "version": 3
   },
   "file_extension": ".py",
   "mimetype": "text/x-python",
   "name": "python",
   "nbconvert_exporter": "python",
   "pygments_lexer": "ipython3",
   "version": "3.9.7"
  }
 },
 "nbformat": 4,
 "nbformat_minor": 5
}
